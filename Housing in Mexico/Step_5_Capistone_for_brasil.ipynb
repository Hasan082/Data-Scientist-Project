{
 "cells": [
  {
   "metadata": {},
   "cell_type": "markdown",
   "source": "# Housing in Brazil",
   "id": "58a35b560f7da98a"
  },
  {
   "metadata": {
    "ExecuteTime": {
     "end_time": "2025-03-14T13:35:19.664593Z",
     "start_time": "2025-03-14T13:35:19.659595Z"
    }
   },
   "cell_type": "code",
   "source": [
    "# Import Matplotlib, pandas, and plotly\n",
    "import pandas as pd\n",
    "import matplotlib.pyplot as plt\n",
    "import plotly.express as px"
   ],
   "id": "3b4aa6486f89df6d",
   "outputs": [],
   "execution_count": 19
  },
  {
   "metadata": {},
   "cell_type": "markdown",
   "source": "## Task 1: Import the CSV file data/brasil-real-estate-1.csv into the DataFrame df1.",
   "id": "4af7ff91c4c045f4"
  },
  {
   "metadata": {
    "ExecuteTime": {
     "end_time": "2025-03-14T13:35:21.925930Z",
     "start_time": "2025-03-14T13:35:21.896251Z"
    }
   },
   "cell_type": "code",
   "source": [
    "df1 = pd.read_csv(\"../data/brasil-real-estate-1.csv\")\n",
    "df1.head()"
   ],
   "id": "a6ad32c8b6361b65",
   "outputs": [
    {
     "data": {
      "text/plain": [
       "  property_type  place_with_parent_names     region                 lat-lon  \\\n",
       "0     apartment  |Brasil|Alagoas|Maceió|  Northeast  -9.6443051,-35.7088142   \n",
       "1     apartment  |Brasil|Alagoas|Maceió|  Northeast    -9.6430934,-35.70484   \n",
       "2         house  |Brasil|Alagoas|Maceió|  Northeast  -9.6227033,-35.7297953   \n",
       "3     apartment  |Brasil|Alagoas|Maceió|  Northeast    -9.622837,-35.719556   \n",
       "4     apartment  |Brasil|Alagoas|Maceió|  Northeast    -9.654955,-35.700227   \n",
       "\n",
       "   area_m2    price_usd  \n",
       "0      110  $187,230.85  \n",
       "1       65   $81,133.37  \n",
       "2      211  $154,465.45  \n",
       "3       99  $146,013.20  \n",
       "4       55  $101,416.71  "
      ],
      "text/html": [
       "<div>\n",
       "<style scoped>\n",
       "    .dataframe tbody tr th:only-of-type {\n",
       "        vertical-align: middle;\n",
       "    }\n",
       "\n",
       "    .dataframe tbody tr th {\n",
       "        vertical-align: top;\n",
       "    }\n",
       "\n",
       "    .dataframe thead th {\n",
       "        text-align: right;\n",
       "    }\n",
       "</style>\n",
       "<table border=\"1\" class=\"dataframe\">\n",
       "  <thead>\n",
       "    <tr style=\"text-align: right;\">\n",
       "      <th></th>\n",
       "      <th>property_type</th>\n",
       "      <th>place_with_parent_names</th>\n",
       "      <th>region</th>\n",
       "      <th>lat-lon</th>\n",
       "      <th>area_m2</th>\n",
       "      <th>price_usd</th>\n",
       "    </tr>\n",
       "  </thead>\n",
       "  <tbody>\n",
       "    <tr>\n",
       "      <th>0</th>\n",
       "      <td>apartment</td>\n",
       "      <td>|Brasil|Alagoas|Maceió|</td>\n",
       "      <td>Northeast</td>\n",
       "      <td>-9.6443051,-35.7088142</td>\n",
       "      <td>110</td>\n",
       "      <td>$187,230.85</td>\n",
       "    </tr>\n",
       "    <tr>\n",
       "      <th>1</th>\n",
       "      <td>apartment</td>\n",
       "      <td>|Brasil|Alagoas|Maceió|</td>\n",
       "      <td>Northeast</td>\n",
       "      <td>-9.6430934,-35.70484</td>\n",
       "      <td>65</td>\n",
       "      <td>$81,133.37</td>\n",
       "    </tr>\n",
       "    <tr>\n",
       "      <th>2</th>\n",
       "      <td>house</td>\n",
       "      <td>|Brasil|Alagoas|Maceió|</td>\n",
       "      <td>Northeast</td>\n",
       "      <td>-9.6227033,-35.7297953</td>\n",
       "      <td>211</td>\n",
       "      <td>$154,465.45</td>\n",
       "    </tr>\n",
       "    <tr>\n",
       "      <th>3</th>\n",
       "      <td>apartment</td>\n",
       "      <td>|Brasil|Alagoas|Maceió|</td>\n",
       "      <td>Northeast</td>\n",
       "      <td>-9.622837,-35.719556</td>\n",
       "      <td>99</td>\n",
       "      <td>$146,013.20</td>\n",
       "    </tr>\n",
       "    <tr>\n",
       "      <th>4</th>\n",
       "      <td>apartment</td>\n",
       "      <td>|Brasil|Alagoas|Maceió|</td>\n",
       "      <td>Northeast</td>\n",
       "      <td>-9.654955,-35.700227</td>\n",
       "      <td>55</td>\n",
       "      <td>$101,416.71</td>\n",
       "    </tr>\n",
       "  </tbody>\n",
       "</table>\n",
       "</div>"
      ]
     },
     "execution_count": 20,
     "metadata": {},
     "output_type": "execute_result"
    }
   ],
   "execution_count": 20
  },
  {
   "metadata": {},
   "cell_type": "markdown",
   "source": "# Before you move to the next task, take a moment to inspect df1 using the info and head methods. What issues do you see in the data? What cleaning will you need to do before you can conduct your analysis?",
   "id": "257ea658553510d7"
  },
  {
   "metadata": {
    "ExecuteTime": {
     "end_time": "2025-03-14T13:35:24.653397Z",
     "start_time": "2025-03-14T13:35:24.642207Z"
    }
   },
   "cell_type": "code",
   "source": [
    "df1.info()\n",
    "df1.shape"
   ],
   "id": "3f96cb6499dc05fa",
   "outputs": [
    {
     "name": "stdout",
     "output_type": "stream",
     "text": [
      "<class 'pandas.core.frame.DataFrame'>\n",
      "RangeIndex: 12834 entries, 0 to 12833\n",
      "Data columns (total 6 columns):\n",
      " #   Column                   Non-Null Count  Dtype \n",
      "---  ------                   --------------  ----- \n",
      " 0   property_type            12834 non-null  object\n",
      " 1   place_with_parent_names  12834 non-null  object\n",
      " 2   region                   12834 non-null  object\n",
      " 3   lat-lon                  11551 non-null  object\n",
      " 4   area_m2                  12834 non-null  int64 \n",
      " 5   price_usd                12834 non-null  object\n",
      "dtypes: int64(1), object(5)\n",
      "memory usage: 601.7+ KB\n"
     ]
    },
    {
     "data": {
      "text/plain": [
       "(12834, 6)"
      ]
     },
     "execution_count": 21,
     "metadata": {},
     "output_type": "execute_result"
    }
   ],
   "execution_count": 21
  },
  {
   "metadata": {},
   "cell_type": "markdown",
   "source": " # Task 2 Drop all rows with NaN values from the DataFrame df1",
   "id": "c3aa426a492b304"
  },
  {
   "metadata": {
    "ExecuteTime": {
     "end_time": "2025-03-14T13:35:29.223505Z",
     "start_time": "2025-03-14T13:35:29.217279Z"
    }
   },
   "cell_type": "code",
   "source": "df1.dropna(inplace=True)",
   "id": "691f57b4fc5ab5e9",
   "outputs": [],
   "execution_count": 23
  },
  {
   "metadata": {
    "ExecuteTime": {
     "end_time": "2025-03-14T13:35:32.924492Z",
     "start_time": "2025-03-14T13:35:32.916593Z"
    }
   },
   "cell_type": "code",
   "source": "df1.shape",
   "id": "479c065040c178d0",
   "outputs": [
    {
     "data": {
      "text/plain": [
       "(11551, 6)"
      ]
     },
     "execution_count": 24,
     "metadata": {},
     "output_type": "execute_result"
    }
   ],
   "execution_count": 24
  },
  {
   "metadata": {},
   "cell_type": "markdown",
   "source": "# Task 3: Use the \"lat-lon\" column to create two separate columns in df1: \"lat\" and \"lon\". Make sure that the data type for these new columns is float.",
   "id": "b6fd35c79e50c772"
  },
  {
   "metadata": {
    "ExecuteTime": {
     "end_time": "2025-03-14T13:37:58.664857Z",
     "start_time": "2025-03-14T13:37:58.645620Z"
    }
   },
   "cell_type": "code",
   "source": "df1[[\"lat\", \"lon\"]] = df1[\"lat-lon\"].str.split(\",\", expand=True).astype(float)",
   "id": "dfc9c02a3ae11474",
   "outputs": [],
   "execution_count": 30
  },
  {
   "metadata": {
    "ExecuteTime": {
     "end_time": "2025-03-14T13:38:06.453067Z",
     "start_time": "2025-03-14T13:38:06.443409Z"
    }
   },
   "cell_type": "code",
   "source": "df1.info()",
   "id": "5f69e4ad5df692b1",
   "outputs": [
    {
     "name": "stdout",
     "output_type": "stream",
     "text": [
      "<class 'pandas.core.frame.DataFrame'>\n",
      "Index: 11551 entries, 0 to 12833\n",
      "Data columns (total 8 columns):\n",
      " #   Column                   Non-Null Count  Dtype  \n",
      "---  ------                   --------------  -----  \n",
      " 0   property_type            11551 non-null  object \n",
      " 1   place_with_parent_names  11551 non-null  object \n",
      " 2   region                   11551 non-null  object \n",
      " 3   lat-lon                  11551 non-null  object \n",
      " 4   area_m2                  11551 non-null  int64  \n",
      " 5   price_usd                11551 non-null  object \n",
      " 6   lat                      11551 non-null  float64\n",
      " 7   lon                      11551 non-null  float64\n",
      "dtypes: float64(2), int64(1), object(5)\n",
      "memory usage: 812.2+ KB\n"
     ]
    }
   ],
   "execution_count": 32
  },
  {
   "metadata": {},
   "cell_type": "markdown",
   "source": "# Task 1.5.4: Use the \"place_with_parent_names\" column to create a \"state\" column for df1. (Note that the state name always appears after \"|Brasil|\" in each string.)",
   "id": "ac5f6ed83844649c"
  },
  {
   "metadata": {
    "ExecuteTime": {
     "end_time": "2025-03-14T13:40:49.477038Z",
     "start_time": "2025-03-14T13:40:49.459997Z"
    }
   },
   "cell_type": "code",
   "source": "df1[\"state\"] = df1[\"place_with_parent_names\"].str.split(\"|\", expand=True)[2]",
   "id": "e1ed56577187b0a7",
   "outputs": [],
   "execution_count": 35
  },
  {
   "metadata": {},
   "cell_type": "markdown",
   "source": "# Task 5: Transform the \"price_usd\" column of df1 so that all values are floating-point numbers instead of strings.",
   "id": "63647b245b0ab7f5"
  },
  {
   "metadata": {
    "ExecuteTime": {
     "end_time": "2025-03-14T13:50:08.834923Z",
     "start_time": "2025-03-14T13:50:08.741596Z"
    }
   },
   "cell_type": "code",
   "source": [
    "df1[\"price_usd\"] = (\n",
    "    df1[\"price_usd\"]\n",
    "    .str.replace(\"$\", \"\")\n",
    "    .str.replace(\",\", \"\")\n",
    "    .astype(float)\n",
    ")"
   ],
   "id": "3d37ab329e060da9",
   "outputs": [
    {
     "ename": "AttributeError",
     "evalue": "Can only use .str accessor with string values!",
     "output_type": "error",
     "traceback": [
      "\u001B[31m---------------------------------------------------------------------------\u001B[39m",
      "\u001B[31mAttributeError\u001B[39m                            Traceback (most recent call last)",
      "\u001B[36mCell\u001B[39m\u001B[36m \u001B[39m\u001B[32mIn[44]\u001B[39m\u001B[32m, line 3\u001B[39m\n\u001B[32m      1\u001B[39m df1[\u001B[33m\"\u001B[39m\u001B[33mprice_usd\u001B[39m\u001B[33m\"\u001B[39m] = (\n\u001B[32m      2\u001B[39m     \u001B[43mdf1\u001B[49m\u001B[43m[\u001B[49m\u001B[33;43m\"\u001B[39;49m\u001B[33;43mprice_usd\u001B[39;49m\u001B[33;43m\"\u001B[39;49m\u001B[43m]\u001B[49m\n\u001B[32m----> \u001B[39m\u001B[32m3\u001B[39m \u001B[43m    \u001B[49m\u001B[43m.\u001B[49m\u001B[43mstr\u001B[49m.replace(\u001B[33m\"\u001B[39m\u001B[33m$\u001B[39m\u001B[33m\"\u001B[39m, \u001B[33m\"\u001B[39m\u001B[33m\"\u001B[39m)\n\u001B[32m      4\u001B[39m     .str.replace(\u001B[33m\"\u001B[39m\u001B[33m,\u001B[39m\u001B[33m\"\u001B[39m, \u001B[33m\"\u001B[39m\u001B[33m\"\u001B[39m)\n\u001B[32m      5\u001B[39m     .astype(\u001B[38;5;28mfloat\u001B[39m)\n\u001B[32m      6\u001B[39m )\n",
      "\u001B[36mFile \u001B[39m\u001B[32m/Users/Python Project/PythonAllProject/Data_Scientist_Project/Data-Scientist-Project-WorldQuant-University/.venv/lib/python3.12/site-packages/pandas/core/generic.py:6299\u001B[39m, in \u001B[36mNDFrame.__getattr__\u001B[39m\u001B[34m(self, name)\u001B[39m\n\u001B[32m   6292\u001B[39m \u001B[38;5;28;01mif\u001B[39;00m (\n\u001B[32m   6293\u001B[39m     name \u001B[38;5;129;01mnot\u001B[39;00m \u001B[38;5;129;01min\u001B[39;00m \u001B[38;5;28mself\u001B[39m._internal_names_set\n\u001B[32m   6294\u001B[39m     \u001B[38;5;129;01mand\u001B[39;00m name \u001B[38;5;129;01mnot\u001B[39;00m \u001B[38;5;129;01min\u001B[39;00m \u001B[38;5;28mself\u001B[39m._metadata\n\u001B[32m   6295\u001B[39m     \u001B[38;5;129;01mand\u001B[39;00m name \u001B[38;5;129;01mnot\u001B[39;00m \u001B[38;5;129;01min\u001B[39;00m \u001B[38;5;28mself\u001B[39m._accessors\n\u001B[32m   6296\u001B[39m     \u001B[38;5;129;01mand\u001B[39;00m \u001B[38;5;28mself\u001B[39m._info_axis._can_hold_identifiers_and_holds_name(name)\n\u001B[32m   6297\u001B[39m ):\n\u001B[32m   6298\u001B[39m     \u001B[38;5;28;01mreturn\u001B[39;00m \u001B[38;5;28mself\u001B[39m[name]\n\u001B[32m-> \u001B[39m\u001B[32m6299\u001B[39m \u001B[38;5;28;01mreturn\u001B[39;00m \u001B[38;5;28;43mobject\u001B[39;49m\u001B[43m.\u001B[49m\u001B[34;43m__getattribute__\u001B[39;49m\u001B[43m(\u001B[49m\u001B[38;5;28;43mself\u001B[39;49m\u001B[43m,\u001B[49m\u001B[43m \u001B[49m\u001B[43mname\u001B[49m\u001B[43m)\u001B[49m\n",
      "\u001B[36mFile \u001B[39m\u001B[32m/Users/Python Project/PythonAllProject/Data_Scientist_Project/Data-Scientist-Project-WorldQuant-University/.venv/lib/python3.12/site-packages/pandas/core/accessor.py:224\u001B[39m, in \u001B[36mCachedAccessor.__get__\u001B[39m\u001B[34m(self, obj, cls)\u001B[39m\n\u001B[32m    221\u001B[39m \u001B[38;5;28;01mif\u001B[39;00m obj \u001B[38;5;129;01mis\u001B[39;00m \u001B[38;5;28;01mNone\u001B[39;00m:\n\u001B[32m    222\u001B[39m     \u001B[38;5;66;03m# we're accessing the attribute of the class, i.e., Dataset.geo\u001B[39;00m\n\u001B[32m    223\u001B[39m     \u001B[38;5;28;01mreturn\u001B[39;00m \u001B[38;5;28mself\u001B[39m._accessor\n\u001B[32m--> \u001B[39m\u001B[32m224\u001B[39m accessor_obj = \u001B[38;5;28;43mself\u001B[39;49m\u001B[43m.\u001B[49m\u001B[43m_accessor\u001B[49m\u001B[43m(\u001B[49m\u001B[43mobj\u001B[49m\u001B[43m)\u001B[49m\n\u001B[32m    225\u001B[39m \u001B[38;5;66;03m# Replace the property with the accessor object. Inspired by:\u001B[39;00m\n\u001B[32m    226\u001B[39m \u001B[38;5;66;03m# https://www.pydanny.com/cached-property.html\u001B[39;00m\n\u001B[32m    227\u001B[39m \u001B[38;5;66;03m# We need to use object.__setattr__ because we overwrite __setattr__ on\u001B[39;00m\n\u001B[32m    228\u001B[39m \u001B[38;5;66;03m# NDFrame\u001B[39;00m\n\u001B[32m    229\u001B[39m \u001B[38;5;28mobject\u001B[39m.\u001B[34m__setattr__\u001B[39m(obj, \u001B[38;5;28mself\u001B[39m._name, accessor_obj)\n",
      "\u001B[36mFile \u001B[39m\u001B[32m/Users/Python Project/PythonAllProject/Data_Scientist_Project/Data-Scientist-Project-WorldQuant-University/.venv/lib/python3.12/site-packages/pandas/core/strings/accessor.py:191\u001B[39m, in \u001B[36mStringMethods.__init__\u001B[39m\u001B[34m(self, data)\u001B[39m\n\u001B[32m    188\u001B[39m \u001B[38;5;28;01mdef\u001B[39;00m\u001B[38;5;250m \u001B[39m\u001B[34m__init__\u001B[39m(\u001B[38;5;28mself\u001B[39m, data) -> \u001B[38;5;28;01mNone\u001B[39;00m:\n\u001B[32m    189\u001B[39m     \u001B[38;5;28;01mfrom\u001B[39;00m\u001B[38;5;250m \u001B[39m\u001B[34;01mpandas\u001B[39;00m\u001B[34;01m.\u001B[39;00m\u001B[34;01mcore\u001B[39;00m\u001B[34;01m.\u001B[39;00m\u001B[34;01marrays\u001B[39;00m\u001B[34;01m.\u001B[39;00m\u001B[34;01mstring_\u001B[39;00m\u001B[38;5;250m \u001B[39m\u001B[38;5;28;01mimport\u001B[39;00m StringDtype\n\u001B[32m--> \u001B[39m\u001B[32m191\u001B[39m     \u001B[38;5;28mself\u001B[39m._inferred_dtype = \u001B[38;5;28;43mself\u001B[39;49m\u001B[43m.\u001B[49m\u001B[43m_validate\u001B[49m\u001B[43m(\u001B[49m\u001B[43mdata\u001B[49m\u001B[43m)\u001B[49m\n\u001B[32m    192\u001B[39m     \u001B[38;5;28mself\u001B[39m._is_categorical = \u001B[38;5;28misinstance\u001B[39m(data.dtype, CategoricalDtype)\n\u001B[32m    193\u001B[39m     \u001B[38;5;28mself\u001B[39m._is_string = \u001B[38;5;28misinstance\u001B[39m(data.dtype, StringDtype)\n",
      "\u001B[36mFile \u001B[39m\u001B[32m/Users/Python Project/PythonAllProject/Data_Scientist_Project/Data-Scientist-Project-WorldQuant-University/.venv/lib/python3.12/site-packages/pandas/core/strings/accessor.py:245\u001B[39m, in \u001B[36mStringMethods._validate\u001B[39m\u001B[34m(data)\u001B[39m\n\u001B[32m    242\u001B[39m inferred_dtype = lib.infer_dtype(values, skipna=\u001B[38;5;28;01mTrue\u001B[39;00m)\n\u001B[32m    244\u001B[39m \u001B[38;5;28;01mif\u001B[39;00m inferred_dtype \u001B[38;5;129;01mnot\u001B[39;00m \u001B[38;5;129;01min\u001B[39;00m allowed_types:\n\u001B[32m--> \u001B[39m\u001B[32m245\u001B[39m     \u001B[38;5;28;01mraise\u001B[39;00m \u001B[38;5;167;01mAttributeError\u001B[39;00m(\u001B[33m\"\u001B[39m\u001B[33mCan only use .str accessor with string values!\u001B[39m\u001B[33m\"\u001B[39m)\n\u001B[32m    246\u001B[39m \u001B[38;5;28;01mreturn\u001B[39;00m inferred_dtype\n",
      "\u001B[31mAttributeError\u001B[39m: Can only use .str accessor with string values!"
     ]
    }
   ],
   "execution_count": 44
  },
  {
   "metadata": {},
   "cell_type": "markdown",
   "source": "# Task 6: Drop the \"lat-lon\" and \"place_with_parent_names\" columns from df1.",
   "id": "5dfe377bf31e3006"
  },
  {
   "metadata": {
    "ExecuteTime": {
     "end_time": "2025-03-14T13:52:19.568794Z",
     "start_time": "2025-03-14T13:52:19.551528Z"
    }
   },
   "cell_type": "code",
   "source": "df1.drop(columns=[\"lat-lon\", \"place_with_parent_names\"], inplace=True)",
   "id": "e3070ea1760b7f5a",
   "outputs": [],
   "execution_count": 45
  },
  {
   "metadata": {
    "ExecuteTime": {
     "end_time": "2025-03-14T13:52:25.376246Z",
     "start_time": "2025-03-14T13:52:25.360856Z"
    }
   },
   "cell_type": "code",
   "source": "df1.head()",
   "id": "63047266fc2815a4",
   "outputs": [
    {
     "data": {
      "text/plain": [
       "  property_type     region  area_m2  price_usd       lat        lon    state\n",
       "0     apartment  Northeast      110  187230.85 -9.644305 -35.708814  Alagoas\n",
       "1     apartment  Northeast       65   81133.37 -9.643093 -35.704840  Alagoas\n",
       "2         house  Northeast      211  154465.45 -9.622703 -35.729795  Alagoas\n",
       "3     apartment  Northeast       99  146013.20 -9.622837 -35.719556  Alagoas\n",
       "4     apartment  Northeast       55  101416.71 -9.654955 -35.700227  Alagoas"
      ],
      "text/html": [
       "<div>\n",
       "<style scoped>\n",
       "    .dataframe tbody tr th:only-of-type {\n",
       "        vertical-align: middle;\n",
       "    }\n",
       "\n",
       "    .dataframe tbody tr th {\n",
       "        vertical-align: top;\n",
       "    }\n",
       "\n",
       "    .dataframe thead th {\n",
       "        text-align: right;\n",
       "    }\n",
       "</style>\n",
       "<table border=\"1\" class=\"dataframe\">\n",
       "  <thead>\n",
       "    <tr style=\"text-align: right;\">\n",
       "      <th></th>\n",
       "      <th>property_type</th>\n",
       "      <th>region</th>\n",
       "      <th>area_m2</th>\n",
       "      <th>price_usd</th>\n",
       "      <th>lat</th>\n",
       "      <th>lon</th>\n",
       "      <th>state</th>\n",
       "    </tr>\n",
       "  </thead>\n",
       "  <tbody>\n",
       "    <tr>\n",
       "      <th>0</th>\n",
       "      <td>apartment</td>\n",
       "      <td>Northeast</td>\n",
       "      <td>110</td>\n",
       "      <td>187230.85</td>\n",
       "      <td>-9.644305</td>\n",
       "      <td>-35.708814</td>\n",
       "      <td>Alagoas</td>\n",
       "    </tr>\n",
       "    <tr>\n",
       "      <th>1</th>\n",
       "      <td>apartment</td>\n",
       "      <td>Northeast</td>\n",
       "      <td>65</td>\n",
       "      <td>81133.37</td>\n",
       "      <td>-9.643093</td>\n",
       "      <td>-35.704840</td>\n",
       "      <td>Alagoas</td>\n",
       "    </tr>\n",
       "    <tr>\n",
       "      <th>2</th>\n",
       "      <td>house</td>\n",
       "      <td>Northeast</td>\n",
       "      <td>211</td>\n",
       "      <td>154465.45</td>\n",
       "      <td>-9.622703</td>\n",
       "      <td>-35.729795</td>\n",
       "      <td>Alagoas</td>\n",
       "    </tr>\n",
       "    <tr>\n",
       "      <th>3</th>\n",
       "      <td>apartment</td>\n",
       "      <td>Northeast</td>\n",
       "      <td>99</td>\n",
       "      <td>146013.20</td>\n",
       "      <td>-9.622837</td>\n",
       "      <td>-35.719556</td>\n",
       "      <td>Alagoas</td>\n",
       "    </tr>\n",
       "    <tr>\n",
       "      <th>4</th>\n",
       "      <td>apartment</td>\n",
       "      <td>Northeast</td>\n",
       "      <td>55</td>\n",
       "      <td>101416.71</td>\n",
       "      <td>-9.654955</td>\n",
       "      <td>-35.700227</td>\n",
       "      <td>Alagoas</td>\n",
       "    </tr>\n",
       "  </tbody>\n",
       "</table>\n",
       "</div>"
      ]
     },
     "execution_count": 46,
     "metadata": {},
     "output_type": "execute_result"
    }
   ],
   "execution_count": 46
  },
  {
   "metadata": {},
   "cell_type": "markdown",
   "source": "",
   "id": "731edb36a98cd383"
  }
 ],
 "metadata": {
  "kernelspec": {
   "display_name": "Python 3",
   "language": "python",
   "name": "python3"
  },
  "language_info": {
   "codemirror_mode": {
    "name": "ipython",
    "version": 2
   },
   "file_extension": ".py",
   "mimetype": "text/x-python",
   "name": "python",
   "nbconvert_exporter": "python",
   "pygments_lexer": "ipython2",
   "version": "2.7.6"
  }
 },
 "nbformat": 4,
 "nbformat_minor": 5
}
