{
 "cells": [
  {
   "metadata": {},
   "cell_type": "markdown",
   "source": "# Preparing Mexico Data",
   "id": "3652596396d3675a"
  },
  {
   "metadata": {
    "ExecuteTime": {
     "end_time": "2025-03-13T11:30:26.258142Z",
     "start_time": "2025-03-13T11:30:25.959865Z"
    }
   },
   "cell_type": "code",
   "source": "import pandas as pd",
   "id": "ecccec3c64305499",
   "outputs": [],
   "execution_count": 1
  },
  {
   "metadata": {
    "ExecuteTime": {
     "end_time": "2025-03-13T12:01:14.803173Z",
     "start_time": "2025-03-13T12:01:14.777553Z"
    }
   },
   "cell_type": "code",
   "source": [
    "# Load CSV files into DataFrames\n",
    "df1 = pd.read_csv(\"../data/mexico-real-estate-1.csv\")\n",
    "df2 = pd.read_csv(\"../data/mexico-real-estate-2.csv\")\n",
    "df3 = pd.read_csv(\"../data/mexico-real-estate-3.csv\")\n",
    "\n",
    "# Print object type and shape for DataFrames\n",
    "print(\"df1 type:\", type(df1))\n",
    "print(\"df1 shape:\", df1.shape)\n",
    "print()\n",
    "print(\"df2 type:\", type(df2))\n",
    "print(\"df2 shape:\", df2.shape)\n",
    "print()\n",
    "print(\"df3 type:\", type(df3))\n",
    "print(\"df3 shape:\", df3.shape)"
   ],
   "id": "7cc3379b50088641",
   "outputs": [
    {
     "name": "stdout",
     "output_type": "stream",
     "text": [
      "df1 type: <class 'pandas.core.frame.DataFrame'>\n",
      "df1 shape: (700, 6)\n",
      "\n",
      "df2 type: <class 'pandas.core.frame.DataFrame'>\n",
      "df2 shape: (700, 6)\n",
      "\n",
      "df3 type: <class 'pandas.core.frame.DataFrame'>\n",
      "df3 shape: (700, 5)\n"
     ]
    }
   ],
   "execution_count": 14
  },
  {
   "metadata": {},
   "cell_type": "markdown",
   "source": [
    "### Clean df1\n",
    "#### Inspect a DataFrame using the shape, info, and head in pandas."
   ],
   "id": "fa54b266dc5a8218"
  },
  {
   "metadata": {
    "ExecuteTime": {
     "end_time": "2025-03-13T12:03:56.740520Z",
     "start_time": "2025-03-13T12:03:56.688077Z"
    }
   },
   "cell_type": "code",
   "source": [
    "# Print df1 shape\n",
    "df1.shape\n",
    "\n",
    "# Print df1 info\n",
    "df1.info()\n",
    "\n",
    "# Get output of df1 head\n",
    "df1.head()"
   ],
   "id": "d8d55d51eed8fe7",
   "outputs": [
    {
     "name": "stdout",
     "output_type": "stream",
     "text": [
      "<class 'pandas.core.frame.DataFrame'>\n",
      "RangeIndex: 700 entries, 0 to 699\n",
      "Data columns (total 6 columns):\n",
      " #   Column         Non-Null Count  Dtype  \n",
      "---  ------         --------------  -----  \n",
      " 0   property_type  700 non-null    object \n",
      " 1   state          700 non-null    object \n",
      " 2   lat            583 non-null    float64\n",
      " 3   lon            583 non-null    float64\n",
      " 4   area_m2        700 non-null    int64  \n",
      " 5   price_usd      700 non-null    object \n",
      "dtypes: float64(2), int64(1), object(3)\n",
      "memory usage: 32.9+ KB\n"
     ]
    },
    {
     "data": {
      "text/plain": [
       "  property_type                            state        lat         lon  \\\n",
       "0         house                 Estado de M�xico  19.560181  -99.233528   \n",
       "1         house                       Nuevo Le�n  25.688436 -100.198807   \n",
       "2     apartment                         Guerrero  16.767704  -99.764383   \n",
       "3     apartment                         Guerrero  16.829782  -99.911012   \n",
       "4         house  Veracruz de Ignacio de la Llave        NaN         NaN   \n",
       "\n",
       "   area_m2   price_usd  \n",
       "0      150  $67,965.56  \n",
       "1      186  $63,223.78  \n",
       "2       82  $84,298.37  \n",
       "3      150  $94,308.80  \n",
       "4      175  $94,835.67  "
      ],
      "text/html": [
       "<div>\n",
       "<style scoped>\n",
       "    .dataframe tbody tr th:only-of-type {\n",
       "        vertical-align: middle;\n",
       "    }\n",
       "\n",
       "    .dataframe tbody tr th {\n",
       "        vertical-align: top;\n",
       "    }\n",
       "\n",
       "    .dataframe thead th {\n",
       "        text-align: right;\n",
       "    }\n",
       "</style>\n",
       "<table border=\"1\" class=\"dataframe\">\n",
       "  <thead>\n",
       "    <tr style=\"text-align: right;\">\n",
       "      <th></th>\n",
       "      <th>property_type</th>\n",
       "      <th>state</th>\n",
       "      <th>lat</th>\n",
       "      <th>lon</th>\n",
       "      <th>area_m2</th>\n",
       "      <th>price_usd</th>\n",
       "    </tr>\n",
       "  </thead>\n",
       "  <tbody>\n",
       "    <tr>\n",
       "      <th>0</th>\n",
       "      <td>house</td>\n",
       "      <td>Estado de M�xico</td>\n",
       "      <td>19.560181</td>\n",
       "      <td>-99.233528</td>\n",
       "      <td>150</td>\n",
       "      <td>$67,965.56</td>\n",
       "    </tr>\n",
       "    <tr>\n",
       "      <th>1</th>\n",
       "      <td>house</td>\n",
       "      <td>Nuevo Le�n</td>\n",
       "      <td>25.688436</td>\n",
       "      <td>-100.198807</td>\n",
       "      <td>186</td>\n",
       "      <td>$63,223.78</td>\n",
       "    </tr>\n",
       "    <tr>\n",
       "      <th>2</th>\n",
       "      <td>apartment</td>\n",
       "      <td>Guerrero</td>\n",
       "      <td>16.767704</td>\n",
       "      <td>-99.764383</td>\n",
       "      <td>82</td>\n",
       "      <td>$84,298.37</td>\n",
       "    </tr>\n",
       "    <tr>\n",
       "      <th>3</th>\n",
       "      <td>apartment</td>\n",
       "      <td>Guerrero</td>\n",
       "      <td>16.829782</td>\n",
       "      <td>-99.911012</td>\n",
       "      <td>150</td>\n",
       "      <td>$94,308.80</td>\n",
       "    </tr>\n",
       "    <tr>\n",
       "      <th>4</th>\n",
       "      <td>house</td>\n",
       "      <td>Veracruz de Ignacio de la Llave</td>\n",
       "      <td>NaN</td>\n",
       "      <td>NaN</td>\n",
       "      <td>175</td>\n",
       "      <td>$94,835.67</td>\n",
       "    </tr>\n",
       "  </tbody>\n",
       "</table>\n",
       "</div>"
      ]
     },
     "execution_count": 16,
     "metadata": {},
     "output_type": "execute_result"
    }
   ],
   "execution_count": 16
  },
  {
   "metadata": {},
   "cell_type": "markdown",
   "source": "### Clean df1 by dropping rows with NaN values. Then remove the \"$\" and \",\" characters from \"price_usd\" and recast the values in the column as floats",
   "id": "503dfaf0b86924f6"
  },
  {
   "metadata": {},
   "cell_type": "markdown",
   "source": "#### DROP MISSING VALUES",
   "id": "1ca72c2c63bad38f"
  },
  {
   "metadata": {
    "ExecuteTime": {
     "end_time": "2025-03-13T12:23:12.031345Z",
     "start_time": "2025-03-13T12:23:12.020574Z"
    }
   },
   "cell_type": "code",
   "source": [
    "# Drop missing values\n",
    "df1.dropna(inplace=True)"
   ],
   "id": "16d26b0d7a68ed96",
   "outputs": [],
   "execution_count": 18
  },
  {
   "metadata": {
    "ExecuteTime": {
     "end_time": "2025-03-13T12:23:40.741434Z",
     "start_time": "2025-03-13T12:23:40.728729Z"
    }
   },
   "cell_type": "code",
   "source": "df1.info()",
   "id": "8e7130a3c064aa25",
   "outputs": [
    {
     "name": "stdout",
     "output_type": "stream",
     "text": [
      "<class 'pandas.core.frame.DataFrame'>\n",
      "Index: 583 entries, 0 to 699\n",
      "Data columns (total 6 columns):\n",
      " #   Column         Non-Null Count  Dtype  \n",
      "---  ------         --------------  -----  \n",
      " 0   property_type  583 non-null    object \n",
      " 1   state          583 non-null    object \n",
      " 2   lat            583 non-null    float64\n",
      " 3   lon            583 non-null    float64\n",
      " 4   area_m2        583 non-null    int64  \n",
      " 5   price_usd      583 non-null    object \n",
      "dtypes: float64(2), int64(1), object(3)\n",
      "memory usage: 31.9+ KB\n"
     ]
    }
   ],
   "execution_count": 22
  },
  {
   "metadata": {},
   "cell_type": "markdown",
   "source": "#### WORK with price_usd column",
   "id": "8c54226fa8c51f9e"
  },
  {
   "metadata": {
    "ExecuteTime": {
     "end_time": "2025-03-13T12:32:38.472809Z",
     "start_time": "2025-03-13T12:32:38.206934Z"
    }
   },
   "cell_type": "code",
   "source": [
    "df1[\"price_usd\"] = (\n",
    "    df1[\"price_usd\"]\n",
    "    .str.replace(\"$\", \"\")\n",
    "    .str.replace(\",\", \"\")\n",
    "    .astype(float)\n",
    ")"
   ],
   "id": "1e0dfc2d6f79ef81",
   "outputs": [
    {
     "ename": "AttributeError",
     "evalue": "Can only use .str accessor with string values!",
     "output_type": "error",
     "traceback": [
      "\u001B[31m---------------------------------------------------------------------------\u001B[39m",
      "\u001B[31mAttributeError\u001B[39m                            Traceback (most recent call last)",
      "\u001B[36mCell\u001B[39m\u001B[36m \u001B[39m\u001B[32mIn[31]\u001B[39m\u001B[32m, line 3\u001B[39m\n\u001B[32m      1\u001B[39m df1[\u001B[33m\"\u001B[39m\u001B[33mprice_usd\u001B[39m\u001B[33m\"\u001B[39m] = (\n\u001B[32m      2\u001B[39m     \u001B[43mdf1\u001B[49m\u001B[43m[\u001B[49m\u001B[33;43m\"\u001B[39;49m\u001B[33;43mprice_usd\u001B[39;49m\u001B[33;43m\"\u001B[39;49m\u001B[43m]\u001B[49m\n\u001B[32m----> \u001B[39m\u001B[32m3\u001B[39m \u001B[43m    \u001B[49m\u001B[43m.\u001B[49m\u001B[43mstr\u001B[49m.replace(\u001B[33m\"\u001B[39m\u001B[33m$\u001B[39m\u001B[33m\"\u001B[39m, \u001B[33m\"\u001B[39m\u001B[33m\"\u001B[39m)\n\u001B[32m      4\u001B[39m     .str.replace(\u001B[33m\"\u001B[39m\u001B[33m,\u001B[39m\u001B[33m\"\u001B[39m, \u001B[33m\"\u001B[39m\u001B[33m\"\u001B[39m)\n\u001B[32m      5\u001B[39m     .astype(\u001B[38;5;28mfloat\u001B[39m)\n\u001B[32m      6\u001B[39m )\n\u001B[32m      7\u001B[39m df1.head()\n",
      "\u001B[36mFile \u001B[39m\u001B[32m/Users/Python Project/PythonAllProject/Data_Scientist_Project/Data-Scientist-Project-WorldQuant-University/.venv/lib/python3.12/site-packages/pandas/core/generic.py:6299\u001B[39m, in \u001B[36mNDFrame.__getattr__\u001B[39m\u001B[34m(self, name)\u001B[39m\n\u001B[32m   6292\u001B[39m \u001B[38;5;28;01mif\u001B[39;00m (\n\u001B[32m   6293\u001B[39m     name \u001B[38;5;129;01mnot\u001B[39;00m \u001B[38;5;129;01min\u001B[39;00m \u001B[38;5;28mself\u001B[39m._internal_names_set\n\u001B[32m   6294\u001B[39m     \u001B[38;5;129;01mand\u001B[39;00m name \u001B[38;5;129;01mnot\u001B[39;00m \u001B[38;5;129;01min\u001B[39;00m \u001B[38;5;28mself\u001B[39m._metadata\n\u001B[32m   6295\u001B[39m     \u001B[38;5;129;01mand\u001B[39;00m name \u001B[38;5;129;01mnot\u001B[39;00m \u001B[38;5;129;01min\u001B[39;00m \u001B[38;5;28mself\u001B[39m._accessors\n\u001B[32m   6296\u001B[39m     \u001B[38;5;129;01mand\u001B[39;00m \u001B[38;5;28mself\u001B[39m._info_axis._can_hold_identifiers_and_holds_name(name)\n\u001B[32m   6297\u001B[39m ):\n\u001B[32m   6298\u001B[39m     \u001B[38;5;28;01mreturn\u001B[39;00m \u001B[38;5;28mself\u001B[39m[name]\n\u001B[32m-> \u001B[39m\u001B[32m6299\u001B[39m \u001B[38;5;28;01mreturn\u001B[39;00m \u001B[38;5;28;43mobject\u001B[39;49m\u001B[43m.\u001B[49m\u001B[34;43m__getattribute__\u001B[39;49m\u001B[43m(\u001B[49m\u001B[38;5;28;43mself\u001B[39;49m\u001B[43m,\u001B[49m\u001B[43m \u001B[49m\u001B[43mname\u001B[49m\u001B[43m)\u001B[49m\n",
      "\u001B[36mFile \u001B[39m\u001B[32m/Users/Python Project/PythonAllProject/Data_Scientist_Project/Data-Scientist-Project-WorldQuant-University/.venv/lib/python3.12/site-packages/pandas/core/accessor.py:224\u001B[39m, in \u001B[36mCachedAccessor.__get__\u001B[39m\u001B[34m(self, obj, cls)\u001B[39m\n\u001B[32m    221\u001B[39m \u001B[38;5;28;01mif\u001B[39;00m obj \u001B[38;5;129;01mis\u001B[39;00m \u001B[38;5;28;01mNone\u001B[39;00m:\n\u001B[32m    222\u001B[39m     \u001B[38;5;66;03m# we're accessing the attribute of the class, i.e., Dataset.geo\u001B[39;00m\n\u001B[32m    223\u001B[39m     \u001B[38;5;28;01mreturn\u001B[39;00m \u001B[38;5;28mself\u001B[39m._accessor\n\u001B[32m--> \u001B[39m\u001B[32m224\u001B[39m accessor_obj = \u001B[38;5;28;43mself\u001B[39;49m\u001B[43m.\u001B[49m\u001B[43m_accessor\u001B[49m\u001B[43m(\u001B[49m\u001B[43mobj\u001B[49m\u001B[43m)\u001B[49m\n\u001B[32m    225\u001B[39m \u001B[38;5;66;03m# Replace the property with the accessor object. Inspired by:\u001B[39;00m\n\u001B[32m    226\u001B[39m \u001B[38;5;66;03m# https://www.pydanny.com/cached-property.html\u001B[39;00m\n\u001B[32m    227\u001B[39m \u001B[38;5;66;03m# We need to use object.__setattr__ because we overwrite __setattr__ on\u001B[39;00m\n\u001B[32m    228\u001B[39m \u001B[38;5;66;03m# NDFrame\u001B[39;00m\n\u001B[32m    229\u001B[39m \u001B[38;5;28mobject\u001B[39m.\u001B[34m__setattr__\u001B[39m(obj, \u001B[38;5;28mself\u001B[39m._name, accessor_obj)\n",
      "\u001B[36mFile \u001B[39m\u001B[32m/Users/Python Project/PythonAllProject/Data_Scientist_Project/Data-Scientist-Project-WorldQuant-University/.venv/lib/python3.12/site-packages/pandas/core/strings/accessor.py:191\u001B[39m, in \u001B[36mStringMethods.__init__\u001B[39m\u001B[34m(self, data)\u001B[39m\n\u001B[32m    188\u001B[39m \u001B[38;5;28;01mdef\u001B[39;00m\u001B[38;5;250m \u001B[39m\u001B[34m__init__\u001B[39m(\u001B[38;5;28mself\u001B[39m, data) -> \u001B[38;5;28;01mNone\u001B[39;00m:\n\u001B[32m    189\u001B[39m     \u001B[38;5;28;01mfrom\u001B[39;00m\u001B[38;5;250m \u001B[39m\u001B[34;01mpandas\u001B[39;00m\u001B[34;01m.\u001B[39;00m\u001B[34;01mcore\u001B[39;00m\u001B[34;01m.\u001B[39;00m\u001B[34;01marrays\u001B[39;00m\u001B[34;01m.\u001B[39;00m\u001B[34;01mstring_\u001B[39;00m\u001B[38;5;250m \u001B[39m\u001B[38;5;28;01mimport\u001B[39;00m StringDtype\n\u001B[32m--> \u001B[39m\u001B[32m191\u001B[39m     \u001B[38;5;28mself\u001B[39m._inferred_dtype = \u001B[38;5;28;43mself\u001B[39;49m\u001B[43m.\u001B[49m\u001B[43m_validate\u001B[49m\u001B[43m(\u001B[49m\u001B[43mdata\u001B[49m\u001B[43m)\u001B[49m\n\u001B[32m    192\u001B[39m     \u001B[38;5;28mself\u001B[39m._is_categorical = \u001B[38;5;28misinstance\u001B[39m(data.dtype, CategoricalDtype)\n\u001B[32m    193\u001B[39m     \u001B[38;5;28mself\u001B[39m._is_string = \u001B[38;5;28misinstance\u001B[39m(data.dtype, StringDtype)\n",
      "\u001B[36mFile \u001B[39m\u001B[32m/Users/Python Project/PythonAllProject/Data_Scientist_Project/Data-Scientist-Project-WorldQuant-University/.venv/lib/python3.12/site-packages/pandas/core/strings/accessor.py:245\u001B[39m, in \u001B[36mStringMethods._validate\u001B[39m\u001B[34m(data)\u001B[39m\n\u001B[32m    242\u001B[39m inferred_dtype = lib.infer_dtype(values, skipna=\u001B[38;5;28;01mTrue\u001B[39;00m)\n\u001B[32m    244\u001B[39m \u001B[38;5;28;01mif\u001B[39;00m inferred_dtype \u001B[38;5;129;01mnot\u001B[39;00m \u001B[38;5;129;01min\u001B[39;00m allowed_types:\n\u001B[32m--> \u001B[39m\u001B[32m245\u001B[39m     \u001B[38;5;28;01mraise\u001B[39;00m \u001B[38;5;167;01mAttributeError\u001B[39;00m(\u001B[33m\"\u001B[39m\u001B[33mCan only use .str accessor with string values!\u001B[39m\u001B[33m\"\u001B[39m)\n\u001B[32m    246\u001B[39m \u001B[38;5;28;01mreturn\u001B[39;00m inferred_dtype\n",
      "\u001B[31mAttributeError\u001B[39m: Can only use .str accessor with string values!"
     ]
    }
   ],
   "execution_count": 31
  },
  {
   "metadata": {},
   "cell_type": "code",
   "outputs": [],
   "execution_count": null,
   "source": "",
   "id": "30cab3077184180b"
  }
 ],
 "metadata": {
  "kernelspec": {
   "display_name": "Python 3",
   "language": "python",
   "name": "python3"
  },
  "language_info": {
   "codemirror_mode": {
    "name": "ipython",
    "version": 2
   },
   "file_extension": ".py",
   "mimetype": "text/x-python",
   "name": "python",
   "nbconvert_exporter": "python",
   "pygments_lexer": "ipython2",
   "version": "2.7.6"
  }
 },
 "nbformat": 4,
 "nbformat_minor": 5
}
