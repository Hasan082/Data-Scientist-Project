{
 "cells": [
  {
   "metadata": {},
   "cell_type": "markdown",
   "source": "# Preparing Mexico Data",
   "id": "3652596396d3675a"
  },
  {
   "metadata": {
    "ExecuteTime": {
     "end_time": "2025-03-13T11:30:26.258142Z",
     "start_time": "2025-03-13T11:30:25.959865Z"
    }
   },
   "cell_type": "code",
   "source": "import pandas as pd",
   "id": "ecccec3c64305499",
   "outputs": [],
   "execution_count": 1
  },
  {
   "metadata": {
    "ExecuteTime": {
     "end_time": "2025-03-13T14:09:26.181929Z",
     "start_time": "2025-03-13T14:09:26.154719Z"
    }
   },
   "cell_type": "code",
   "source": [
    "# Load CSV files into DataFrames\n",
    "df1 = pd.read_csv(\"../data/mexico-real-estate-1.csv\")\n",
    "df2 = pd.read_csv(\"../data/mexico-real-estate-2.csv\")\n",
    "df3 = pd.read_csv(\"../data/mexico-real-estate-3.csv\")\n",
    "\n",
    "# Print object type and shape for DataFrames\n",
    "print(\"df1 type:\", type(df1))\n",
    "print(\"df1 shape:\", df1.shape)\n",
    "print()\n",
    "print(\"df2 type:\", type(df2))\n",
    "print(\"df2 shape:\", df2.shape)\n",
    "print()\n",
    "print(\"df3 type:\", type(df3))\n",
    "print(\"df3 shape:\", df3.shape)"
   ],
   "id": "7cc3379b50088641",
   "outputs": [
    {
     "name": "stdout",
     "output_type": "stream",
     "text": [
      "df1 type: <class 'pandas.core.frame.DataFrame'>\n",
      "df1 shape: (700, 6)\n",
      "\n",
      "df2 type: <class 'pandas.core.frame.DataFrame'>\n",
      "df2 shape: (700, 6)\n",
      "\n",
      "df3 type: <class 'pandas.core.frame.DataFrame'>\n",
      "df3 shape: (700, 5)\n"
     ]
    }
   ],
   "execution_count": 101
  },
  {
   "metadata": {},
   "cell_type": "markdown",
   "source": [
    "### Clean df1\n",
    "#### Inspect a DataFrame using the shape, info, and head in pandas."
   ],
   "id": "fa54b266dc5a8218"
  },
  {
   "metadata": {
    "ExecuteTime": {
     "end_time": "2025-03-13T14:09:31.675314Z",
     "start_time": "2025-03-13T14:09:31.661232Z"
    }
   },
   "cell_type": "code",
   "source": [
    "# Print df1 shape\n",
    "df1.shape\n",
    "\n",
    "# Print df1 info\n",
    "df1.info()\n",
    "\n",
    "# Get output of df1 head\n",
    "df1.head()"
   ],
   "id": "d8d55d51eed8fe7",
   "outputs": [
    {
     "name": "stdout",
     "output_type": "stream",
     "text": [
      "<class 'pandas.core.frame.DataFrame'>\n",
      "RangeIndex: 700 entries, 0 to 699\n",
      "Data columns (total 6 columns):\n",
      " #   Column         Non-Null Count  Dtype  \n",
      "---  ------         --------------  -----  \n",
      " 0   property_type  700 non-null    object \n",
      " 1   state          700 non-null    object \n",
      " 2   lat            583 non-null    float64\n",
      " 3   lon            583 non-null    float64\n",
      " 4   area_m2        700 non-null    int64  \n",
      " 5   price_usd      700 non-null    object \n",
      "dtypes: float64(2), int64(1), object(3)\n",
      "memory usage: 32.9+ KB\n"
     ]
    },
    {
     "data": {
      "text/plain": [
       "  property_type                            state        lat         lon  \\\n",
       "0         house                 Estado de M�xico  19.560181  -99.233528   \n",
       "1         house                       Nuevo Le�n  25.688436 -100.198807   \n",
       "2     apartment                         Guerrero  16.767704  -99.764383   \n",
       "3     apartment                         Guerrero  16.829782  -99.911012   \n",
       "4         house  Veracruz de Ignacio de la Llave        NaN         NaN   \n",
       "\n",
       "   area_m2   price_usd  \n",
       "0      150  $67,965.56  \n",
       "1      186  $63,223.78  \n",
       "2       82  $84,298.37  \n",
       "3      150  $94,308.80  \n",
       "4      175  $94,835.67  "
      ],
      "text/html": [
       "<div>\n",
       "<style scoped>\n",
       "    .dataframe tbody tr th:only-of-type {\n",
       "        vertical-align: middle;\n",
       "    }\n",
       "\n",
       "    .dataframe tbody tr th {\n",
       "        vertical-align: top;\n",
       "    }\n",
       "\n",
       "    .dataframe thead th {\n",
       "        text-align: right;\n",
       "    }\n",
       "</style>\n",
       "<table border=\"1\" class=\"dataframe\">\n",
       "  <thead>\n",
       "    <tr style=\"text-align: right;\">\n",
       "      <th></th>\n",
       "      <th>property_type</th>\n",
       "      <th>state</th>\n",
       "      <th>lat</th>\n",
       "      <th>lon</th>\n",
       "      <th>area_m2</th>\n",
       "      <th>price_usd</th>\n",
       "    </tr>\n",
       "  </thead>\n",
       "  <tbody>\n",
       "    <tr>\n",
       "      <th>0</th>\n",
       "      <td>house</td>\n",
       "      <td>Estado de M�xico</td>\n",
       "      <td>19.560181</td>\n",
       "      <td>-99.233528</td>\n",
       "      <td>150</td>\n",
       "      <td>$67,965.56</td>\n",
       "    </tr>\n",
       "    <tr>\n",
       "      <th>1</th>\n",
       "      <td>house</td>\n",
       "      <td>Nuevo Le�n</td>\n",
       "      <td>25.688436</td>\n",
       "      <td>-100.198807</td>\n",
       "      <td>186</td>\n",
       "      <td>$63,223.78</td>\n",
       "    </tr>\n",
       "    <tr>\n",
       "      <th>2</th>\n",
       "      <td>apartment</td>\n",
       "      <td>Guerrero</td>\n",
       "      <td>16.767704</td>\n",
       "      <td>-99.764383</td>\n",
       "      <td>82</td>\n",
       "      <td>$84,298.37</td>\n",
       "    </tr>\n",
       "    <tr>\n",
       "      <th>3</th>\n",
       "      <td>apartment</td>\n",
       "      <td>Guerrero</td>\n",
       "      <td>16.829782</td>\n",
       "      <td>-99.911012</td>\n",
       "      <td>150</td>\n",
       "      <td>$94,308.80</td>\n",
       "    </tr>\n",
       "    <tr>\n",
       "      <th>4</th>\n",
       "      <td>house</td>\n",
       "      <td>Veracruz de Ignacio de la Llave</td>\n",
       "      <td>NaN</td>\n",
       "      <td>NaN</td>\n",
       "      <td>175</td>\n",
       "      <td>$94,835.67</td>\n",
       "    </tr>\n",
       "  </tbody>\n",
       "</table>\n",
       "</div>"
      ]
     },
     "execution_count": 102,
     "metadata": {},
     "output_type": "execute_result"
    }
   ],
   "execution_count": 102
  },
  {
   "metadata": {},
   "cell_type": "markdown",
   "source": "### Clean df1 by dropping rows with NaN values. Then remove the \"$\" and \",\" characters from \"price_usd\" and recast the values in the column as floats",
   "id": "503dfaf0b86924f6"
  },
  {
   "metadata": {},
   "cell_type": "markdown",
   "source": "#### DROP MISSING VALUES",
   "id": "1ca72c2c63bad38f"
  },
  {
   "metadata": {
    "ExecuteTime": {
     "end_time": "2025-03-13T14:09:50.424499Z",
     "start_time": "2025-03-13T14:09:50.421050Z"
    }
   },
   "cell_type": "code",
   "source": [
    "# Drop missing values\n",
    "df1.dropna(inplace=True)"
   ],
   "id": "16d26b0d7a68ed96",
   "outputs": [],
   "execution_count": 104
  },
  {
   "metadata": {
    "ExecuteTime": {
     "end_time": "2025-03-13T14:09:52.351267Z",
     "start_time": "2025-03-13T14:09:52.341055Z"
    }
   },
   "cell_type": "code",
   "source": "df1.info()",
   "id": "8e7130a3c064aa25",
   "outputs": [
    {
     "name": "stdout",
     "output_type": "stream",
     "text": [
      "<class 'pandas.core.frame.DataFrame'>\n",
      "Index: 583 entries, 0 to 699\n",
      "Data columns (total 6 columns):\n",
      " #   Column         Non-Null Count  Dtype  \n",
      "---  ------         --------------  -----  \n",
      " 0   property_type  583 non-null    object \n",
      " 1   state          583 non-null    object \n",
      " 2   lat            583 non-null    float64\n",
      " 3   lon            583 non-null    float64\n",
      " 4   area_m2        583 non-null    int64  \n",
      " 5   price_usd      583 non-null    object \n",
      "dtypes: float64(2), int64(1), object(3)\n",
      "memory usage: 31.9+ KB\n"
     ]
    }
   ],
   "execution_count": 105
  },
  {
   "metadata": {},
   "cell_type": "markdown",
   "source": "#### WORK with price_usd column",
   "id": "8c54226fa8c51f9e"
  },
  {
   "metadata": {
    "ExecuteTime": {
     "end_time": "2025-03-13T14:09:56.879805Z",
     "start_time": "2025-03-13T14:09:56.874592Z"
    }
   },
   "cell_type": "code",
   "source": [
    "df1[\"price_usd\"] = (\n",
    "    df1[\"price_usd\"]\n",
    "    .str.replace(\"$\", \"\")\n",
    "    .str.replace(\",\", \"\")\n",
    "    .astype(float)\n",
    ")"
   ],
   "id": "1e0dfc2d6f79ef81",
   "outputs": [],
   "execution_count": 106
  },
  {
   "metadata": {},
   "cell_type": "markdown",
   "source": "# Clean df2",
   "id": "cadb5531b4eb9130"
  },
  {
   "metadata": {
    "ExecuteTime": {
     "end_time": "2025-03-13T14:10:00.899934Z",
     "start_time": "2025-03-13T14:10:00.880362Z"
    }
   },
   "cell_type": "code",
   "source": [
    "df2.info()\n",
    "df2.head()"
   ],
   "id": "1e82ee9e8142dd6b",
   "outputs": [
    {
     "name": "stdout",
     "output_type": "stream",
     "text": [
      "<class 'pandas.core.frame.DataFrame'>\n",
      "RangeIndex: 700 entries, 0 to 699\n",
      "Data columns (total 6 columns):\n",
      " #   Column         Non-Null Count  Dtype  \n",
      "---  ------         --------------  -----  \n",
      " 0   property_type  700 non-null    object \n",
      " 1   state          700 non-null    object \n",
      " 2   lat            571 non-null    float64\n",
      " 3   lon            571 non-null    float64\n",
      " 4   area_m2        700 non-null    int64  \n",
      " 5   price_mxn      700 non-null    int64  \n",
      "dtypes: float64(2), int64(2), object(2)\n",
      "memory usage: 32.9+ KB\n"
     ]
    },
    {
     "data": {
      "text/plain": [
       "  property_type       state        lat         lon  area_m2  price_mxn\n",
       "0     apartment  Nuevo Le�n  25.721081 -100.345581       72    1300000\n",
       "1     apartment      Puebla        NaN         NaN      190    2500000\n",
       "2         house     Morelos  23.634501 -102.552788      360    5300000\n",
       "3         house     Morelos        NaN         NaN       76     820000\n",
       "4         house      Puebla        NaN         NaN      200    1100000"
      ],
      "text/html": [
       "<div>\n",
       "<style scoped>\n",
       "    .dataframe tbody tr th:only-of-type {\n",
       "        vertical-align: middle;\n",
       "    }\n",
       "\n",
       "    .dataframe tbody tr th {\n",
       "        vertical-align: top;\n",
       "    }\n",
       "\n",
       "    .dataframe thead th {\n",
       "        text-align: right;\n",
       "    }\n",
       "</style>\n",
       "<table border=\"1\" class=\"dataframe\">\n",
       "  <thead>\n",
       "    <tr style=\"text-align: right;\">\n",
       "      <th></th>\n",
       "      <th>property_type</th>\n",
       "      <th>state</th>\n",
       "      <th>lat</th>\n",
       "      <th>lon</th>\n",
       "      <th>area_m2</th>\n",
       "      <th>price_mxn</th>\n",
       "    </tr>\n",
       "  </thead>\n",
       "  <tbody>\n",
       "    <tr>\n",
       "      <th>0</th>\n",
       "      <td>apartment</td>\n",
       "      <td>Nuevo Le�n</td>\n",
       "      <td>25.721081</td>\n",
       "      <td>-100.345581</td>\n",
       "      <td>72</td>\n",
       "      <td>1300000</td>\n",
       "    </tr>\n",
       "    <tr>\n",
       "      <th>1</th>\n",
       "      <td>apartment</td>\n",
       "      <td>Puebla</td>\n",
       "      <td>NaN</td>\n",
       "      <td>NaN</td>\n",
       "      <td>190</td>\n",
       "      <td>2500000</td>\n",
       "    </tr>\n",
       "    <tr>\n",
       "      <th>2</th>\n",
       "      <td>house</td>\n",
       "      <td>Morelos</td>\n",
       "      <td>23.634501</td>\n",
       "      <td>-102.552788</td>\n",
       "      <td>360</td>\n",
       "      <td>5300000</td>\n",
       "    </tr>\n",
       "    <tr>\n",
       "      <th>3</th>\n",
       "      <td>house</td>\n",
       "      <td>Morelos</td>\n",
       "      <td>NaN</td>\n",
       "      <td>NaN</td>\n",
       "      <td>76</td>\n",
       "      <td>820000</td>\n",
       "    </tr>\n",
       "    <tr>\n",
       "      <th>4</th>\n",
       "      <td>house</td>\n",
       "      <td>Puebla</td>\n",
       "      <td>NaN</td>\n",
       "      <td>NaN</td>\n",
       "      <td>200</td>\n",
       "      <td>1100000</td>\n",
       "    </tr>\n",
       "  </tbody>\n",
       "</table>\n",
       "</div>"
      ]
     },
     "execution_count": 107,
     "metadata": {},
     "output_type": "execute_result"
    }
   ],
   "execution_count": 107
  },
  {
   "metadata": {},
   "cell_type": "markdown",
   "source": "#### DROP the missing filed",
   "id": "617fd81e9f08c83"
  },
  {
   "metadata": {
    "ExecuteTime": {
     "end_time": "2025-03-13T14:10:08.754423Z",
     "start_time": "2025-03-13T14:10:08.740812Z"
    }
   },
   "cell_type": "code",
   "source": "df2.dropna(inplace=True)",
   "id": "fe96aeadf942eac7",
   "outputs": [],
   "execution_count": 108
  },
  {
   "metadata": {
    "ExecuteTime": {
     "end_time": "2025-03-13T14:10:11.717692Z",
     "start_time": "2025-03-13T14:10:11.710462Z"
    }
   },
   "cell_type": "code",
   "source": "df2.info()",
   "id": "bb1726596eb4b1e",
   "outputs": [
    {
     "name": "stdout",
     "output_type": "stream",
     "text": [
      "<class 'pandas.core.frame.DataFrame'>\n",
      "Index: 571 entries, 0 to 699\n",
      "Data columns (total 6 columns):\n",
      " #   Column         Non-Null Count  Dtype  \n",
      "---  ------         --------------  -----  \n",
      " 0   property_type  571 non-null    object \n",
      " 1   state          571 non-null    object \n",
      " 2   lat            571 non-null    float64\n",
      " 3   lon            571 non-null    float64\n",
      " 4   area_m2        571 non-null    int64  \n",
      " 5   price_mxn      571 non-null    int64  \n",
      "dtypes: float64(2), int64(2), object(2)\n",
      "memory usage: 31.2+ KB\n"
     ]
    }
   ],
   "execution_count": 109
  },
  {
   "metadata": {},
   "cell_type": "markdown",
   "source": "#### Price field is mexican currency, so we have to convert this to USD, so convert to usd and assign and new column then remove the mexican price",
   "id": "a1c7a10d186e1fb5"
  },
  {
   "metadata": {
    "ExecuteTime": {
     "end_time": "2025-03-13T14:10:15.811461Z",
     "start_time": "2025-03-13T14:10:15.787924Z"
    }
   },
   "cell_type": "code",
   "source": [
    "df2[\"price_usd\"] = (df2[\"price_mxn\"] / 19).round(2)\n",
    "df2 = df2.drop(columns=[\"price_mxn\"])\n",
    "df2.head()"
   ],
   "id": "301fa4e8e491a69b",
   "outputs": [
    {
     "data": {
      "text/plain": [
       "  property_type             state        lat         lon  area_m2  price_usd\n",
       "0     apartment        Nuevo Le�n  25.721081 -100.345581       72   68421.05\n",
       "2         house           Morelos  23.634501 -102.552788      360  278947.37\n",
       "6     apartment  Estado de M�xico  19.272040  -99.572013       85   65789.47\n",
       "7         house   San Luis Potos�  22.138882 -100.996510      158  111578.95\n",
       "8     apartment  Distrito Federal  19.394558  -99.129707       65   39904.74"
      ],
      "text/html": [
       "<div>\n",
       "<style scoped>\n",
       "    .dataframe tbody tr th:only-of-type {\n",
       "        vertical-align: middle;\n",
       "    }\n",
       "\n",
       "    .dataframe tbody tr th {\n",
       "        vertical-align: top;\n",
       "    }\n",
       "\n",
       "    .dataframe thead th {\n",
       "        text-align: right;\n",
       "    }\n",
       "</style>\n",
       "<table border=\"1\" class=\"dataframe\">\n",
       "  <thead>\n",
       "    <tr style=\"text-align: right;\">\n",
       "      <th></th>\n",
       "      <th>property_type</th>\n",
       "      <th>state</th>\n",
       "      <th>lat</th>\n",
       "      <th>lon</th>\n",
       "      <th>area_m2</th>\n",
       "      <th>price_usd</th>\n",
       "    </tr>\n",
       "  </thead>\n",
       "  <tbody>\n",
       "    <tr>\n",
       "      <th>0</th>\n",
       "      <td>apartment</td>\n",
       "      <td>Nuevo Le�n</td>\n",
       "      <td>25.721081</td>\n",
       "      <td>-100.345581</td>\n",
       "      <td>72</td>\n",
       "      <td>68421.05</td>\n",
       "    </tr>\n",
       "    <tr>\n",
       "      <th>2</th>\n",
       "      <td>house</td>\n",
       "      <td>Morelos</td>\n",
       "      <td>23.634501</td>\n",
       "      <td>-102.552788</td>\n",
       "      <td>360</td>\n",
       "      <td>278947.37</td>\n",
       "    </tr>\n",
       "    <tr>\n",
       "      <th>6</th>\n",
       "      <td>apartment</td>\n",
       "      <td>Estado de M�xico</td>\n",
       "      <td>19.272040</td>\n",
       "      <td>-99.572013</td>\n",
       "      <td>85</td>\n",
       "      <td>65789.47</td>\n",
       "    </tr>\n",
       "    <tr>\n",
       "      <th>7</th>\n",
       "      <td>house</td>\n",
       "      <td>San Luis Potos�</td>\n",
       "      <td>22.138882</td>\n",
       "      <td>-100.996510</td>\n",
       "      <td>158</td>\n",
       "      <td>111578.95</td>\n",
       "    </tr>\n",
       "    <tr>\n",
       "      <th>8</th>\n",
       "      <td>apartment</td>\n",
       "      <td>Distrito Federal</td>\n",
       "      <td>19.394558</td>\n",
       "      <td>-99.129707</td>\n",
       "      <td>65</td>\n",
       "      <td>39904.74</td>\n",
       "    </tr>\n",
       "  </tbody>\n",
       "</table>\n",
       "</div>"
      ]
     },
     "execution_count": 110,
     "metadata": {},
     "output_type": "execute_result"
    }
   ],
   "execution_count": 110
  },
  {
   "metadata": {},
   "cell_type": "markdown",
   "source": "# Clean df3",
   "id": "102bf4aca1a94be3"
  },
  {
   "metadata": {
    "ExecuteTime": {
     "end_time": "2025-03-13T14:10:19.527779Z",
     "start_time": "2025-03-13T14:10:19.518108Z"
    }
   },
   "cell_type": "code",
   "source": [
    "df3.info()\n",
    "df3.head()"
   ],
   "id": "83cf53578f5ff622",
   "outputs": [
    {
     "name": "stdout",
     "output_type": "stream",
     "text": [
      "<class 'pandas.core.frame.DataFrame'>\n",
      "RangeIndex: 700 entries, 0 to 699\n",
      "Data columns (total 5 columns):\n",
      " #   Column                   Non-Null Count  Dtype  \n",
      "---  ------                   --------------  -----  \n",
      " 0   property_type            700 non-null    object \n",
      " 1   place_with_parent_names  700 non-null    object \n",
      " 2   lat-lon                  582 non-null    object \n",
      " 3   area_m2                  700 non-null    int64  \n",
      " 4   price_usd                700 non-null    float64\n",
      "dtypes: float64(1), int64(1), object(3)\n",
      "memory usage: 27.5+ KB\n"
     ]
    },
    {
     "data": {
      "text/plain": [
       "  property_type                            place_with_parent_names  \\\n",
       "0     apartment  |M�xico|Distrito Federal|Gustavo A. Madero|Acu...   \n",
       "1         house           |M�xico|Estado de M�xico|Toluca|Metepec|   \n",
       "2         house  |M�xico|Estado de M�xico|Toluca|Toluca de Lerd...   \n",
       "3         house        |M�xico|Morelos|Temixco|Burgos Bugambilias|   \n",
       "4     apartment  |M�xico|Veracruz de Ignacio de la Llave|Veracruz|   \n",
       "\n",
       "                  lat-lon  area_m2  price_usd  \n",
       "0     19.52589,-99.151703       71   48550.59  \n",
       "1  19.2640539,-99.5727534      233  168636.73  \n",
       "2    19.268629,-99.671722      300   86932.69  \n",
       "3                     NaN      275  263432.41  \n",
       "4    19.511938,-96.871956       84   68508.67  "
      ],
      "text/html": [
       "<div>\n",
       "<style scoped>\n",
       "    .dataframe tbody tr th:only-of-type {\n",
       "        vertical-align: middle;\n",
       "    }\n",
       "\n",
       "    .dataframe tbody tr th {\n",
       "        vertical-align: top;\n",
       "    }\n",
       "\n",
       "    .dataframe thead th {\n",
       "        text-align: right;\n",
       "    }\n",
       "</style>\n",
       "<table border=\"1\" class=\"dataframe\">\n",
       "  <thead>\n",
       "    <tr style=\"text-align: right;\">\n",
       "      <th></th>\n",
       "      <th>property_type</th>\n",
       "      <th>place_with_parent_names</th>\n",
       "      <th>lat-lon</th>\n",
       "      <th>area_m2</th>\n",
       "      <th>price_usd</th>\n",
       "    </tr>\n",
       "  </thead>\n",
       "  <tbody>\n",
       "    <tr>\n",
       "      <th>0</th>\n",
       "      <td>apartment</td>\n",
       "      <td>|M�xico|Distrito Federal|Gustavo A. Madero|Acu...</td>\n",
       "      <td>19.52589,-99.151703</td>\n",
       "      <td>71</td>\n",
       "      <td>48550.59</td>\n",
       "    </tr>\n",
       "    <tr>\n",
       "      <th>1</th>\n",
       "      <td>house</td>\n",
       "      <td>|M�xico|Estado de M�xico|Toluca|Metepec|</td>\n",
       "      <td>19.2640539,-99.5727534</td>\n",
       "      <td>233</td>\n",
       "      <td>168636.73</td>\n",
       "    </tr>\n",
       "    <tr>\n",
       "      <th>2</th>\n",
       "      <td>house</td>\n",
       "      <td>|M�xico|Estado de M�xico|Toluca|Toluca de Lerd...</td>\n",
       "      <td>19.268629,-99.671722</td>\n",
       "      <td>300</td>\n",
       "      <td>86932.69</td>\n",
       "    </tr>\n",
       "    <tr>\n",
       "      <th>3</th>\n",
       "      <td>house</td>\n",
       "      <td>|M�xico|Morelos|Temixco|Burgos Bugambilias|</td>\n",
       "      <td>NaN</td>\n",
       "      <td>275</td>\n",
       "      <td>263432.41</td>\n",
       "    </tr>\n",
       "    <tr>\n",
       "      <th>4</th>\n",
       "      <td>apartment</td>\n",
       "      <td>|M�xico|Veracruz de Ignacio de la Llave|Veracruz|</td>\n",
       "      <td>19.511938,-96.871956</td>\n",
       "      <td>84</td>\n",
       "      <td>68508.67</td>\n",
       "    </tr>\n",
       "  </tbody>\n",
       "</table>\n",
       "</div>"
      ]
     },
     "execution_count": 111,
     "metadata": {},
     "output_type": "execute_result"
    }
   ],
   "execution_count": 111
  },
  {
   "metadata": {},
   "cell_type": "markdown",
   "source": "### We saw in the data, we have 5 column which is not match with other dataset, because lat lon in single filed, but we need it different column becuase our other data is ame format, and also we need to work with place-with_parent_name",
   "id": "9f5a48577036b75a"
  },
  {
   "metadata": {
    "ExecuteTime": {
     "end_time": "2025-03-13T14:10:24.324236Z",
     "start_time": "2025-03-13T14:10:24.309657Z"
    }
   },
   "cell_type": "code",
   "source": [
    "# drop 'NaN' value form df3\n",
    "df3.dropna(inplace=True)"
   ],
   "id": "f8bf98ec6bbaad79",
   "outputs": [],
   "execution_count": 112
  },
  {
   "metadata": {
    "ExecuteTime": {
     "end_time": "2025-03-13T14:10:26.642097Z",
     "start_time": "2025-03-13T14:10:26.630606Z"
    }
   },
   "cell_type": "code",
   "source": [
    "df3.info()\n",
    "df3.head()"
   ],
   "id": "5ccdfa2af711066c",
   "outputs": [
    {
     "name": "stdout",
     "output_type": "stream",
     "text": [
      "<class 'pandas.core.frame.DataFrame'>\n",
      "Index: 582 entries, 0 to 699\n",
      "Data columns (total 5 columns):\n",
      " #   Column                   Non-Null Count  Dtype  \n",
      "---  ------                   --------------  -----  \n",
      " 0   property_type            582 non-null    object \n",
      " 1   place_with_parent_names  582 non-null    object \n",
      " 2   lat-lon                  582 non-null    object \n",
      " 3   area_m2                  582 non-null    int64  \n",
      " 4   price_usd                582 non-null    float64\n",
      "dtypes: float64(1), int64(1), object(3)\n",
      "memory usage: 27.3+ KB\n"
     ]
    },
    {
     "data": {
      "text/plain": [
       "  property_type                            place_with_parent_names  \\\n",
       "0     apartment  |M�xico|Distrito Federal|Gustavo A. Madero|Acu...   \n",
       "1         house           |M�xico|Estado de M�xico|Toluca|Metepec|   \n",
       "2         house  |M�xico|Estado de M�xico|Toluca|Toluca de Lerd...   \n",
       "4     apartment  |M�xico|Veracruz de Ignacio de la Llave|Veracruz|   \n",
       "5         house                       |M�xico|Jalisco|Guadalajara|   \n",
       "\n",
       "                  lat-lon  area_m2  price_usd  \n",
       "0     19.52589,-99.151703       71   48550.59  \n",
       "1  19.2640539,-99.5727534      233  168636.73  \n",
       "2    19.268629,-99.671722      300   86932.69  \n",
       "4    19.511938,-96.871956       84   68508.67  \n",
       "5   20.689157,-103.366728      175  102763.00  "
      ],
      "text/html": [
       "<div>\n",
       "<style scoped>\n",
       "    .dataframe tbody tr th:only-of-type {\n",
       "        vertical-align: middle;\n",
       "    }\n",
       "\n",
       "    .dataframe tbody tr th {\n",
       "        vertical-align: top;\n",
       "    }\n",
       "\n",
       "    .dataframe thead th {\n",
       "        text-align: right;\n",
       "    }\n",
       "</style>\n",
       "<table border=\"1\" class=\"dataframe\">\n",
       "  <thead>\n",
       "    <tr style=\"text-align: right;\">\n",
       "      <th></th>\n",
       "      <th>property_type</th>\n",
       "      <th>place_with_parent_names</th>\n",
       "      <th>lat-lon</th>\n",
       "      <th>area_m2</th>\n",
       "      <th>price_usd</th>\n",
       "    </tr>\n",
       "  </thead>\n",
       "  <tbody>\n",
       "    <tr>\n",
       "      <th>0</th>\n",
       "      <td>apartment</td>\n",
       "      <td>|M�xico|Distrito Federal|Gustavo A. Madero|Acu...</td>\n",
       "      <td>19.52589,-99.151703</td>\n",
       "      <td>71</td>\n",
       "      <td>48550.59</td>\n",
       "    </tr>\n",
       "    <tr>\n",
       "      <th>1</th>\n",
       "      <td>house</td>\n",
       "      <td>|M�xico|Estado de M�xico|Toluca|Metepec|</td>\n",
       "      <td>19.2640539,-99.5727534</td>\n",
       "      <td>233</td>\n",
       "      <td>168636.73</td>\n",
       "    </tr>\n",
       "    <tr>\n",
       "      <th>2</th>\n",
       "      <td>house</td>\n",
       "      <td>|M�xico|Estado de M�xico|Toluca|Toluca de Lerd...</td>\n",
       "      <td>19.268629,-99.671722</td>\n",
       "      <td>300</td>\n",
       "      <td>86932.69</td>\n",
       "    </tr>\n",
       "    <tr>\n",
       "      <th>4</th>\n",
       "      <td>apartment</td>\n",
       "      <td>|M�xico|Veracruz de Ignacio de la Llave|Veracruz|</td>\n",
       "      <td>19.511938,-96.871956</td>\n",
       "      <td>84</td>\n",
       "      <td>68508.67</td>\n",
       "    </tr>\n",
       "    <tr>\n",
       "      <th>5</th>\n",
       "      <td>house</td>\n",
       "      <td>|M�xico|Jalisco|Guadalajara|</td>\n",
       "      <td>20.689157,-103.366728</td>\n",
       "      <td>175</td>\n",
       "      <td>102763.00</td>\n",
       "    </tr>\n",
       "  </tbody>\n",
       "</table>\n",
       "</div>"
      ]
     },
     "execution_count": 113,
     "metadata": {},
     "output_type": "execute_result"
    }
   ],
   "execution_count": 113
  },
  {
   "metadata": {
    "ExecuteTime": {
     "end_time": "2025-03-13T14:10:30.606338Z",
     "start_time": "2025-03-13T14:10:30.590975Z"
    }
   },
   "cell_type": "code",
   "source": "df3[[\"lat\", \"lon\"]] = df3[\"lat-lon\"].str.split(\",\", expand=True)",
   "id": "f363b89beea379e4",
   "outputs": [],
   "execution_count": 114
  },
  {
   "metadata": {
    "ExecuteTime": {
     "end_time": "2025-03-13T14:10:32.838157Z",
     "start_time": "2025-03-13T14:10:32.830823Z"
    }
   },
   "cell_type": "code",
   "source": "df3.info()",
   "id": "b79fc2df1bc13dd",
   "outputs": [
    {
     "name": "stdout",
     "output_type": "stream",
     "text": [
      "<class 'pandas.core.frame.DataFrame'>\n",
      "Index: 582 entries, 0 to 699\n",
      "Data columns (total 7 columns):\n",
      " #   Column                   Non-Null Count  Dtype  \n",
      "---  ------                   --------------  -----  \n",
      " 0   property_type            582 non-null    object \n",
      " 1   place_with_parent_names  582 non-null    object \n",
      " 2   lat-lon                  582 non-null    object \n",
      " 3   area_m2                  582 non-null    int64  \n",
      " 4   price_usd                582 non-null    float64\n",
      " 5   lat                      582 non-null    object \n",
      " 6   lon                      582 non-null    object \n",
      "dtypes: float64(1), int64(1), object(5)\n",
      "memory usage: 36.4+ KB\n"
     ]
    }
   ],
   "execution_count": 115
  },
  {
   "metadata": {
    "ExecuteTime": {
     "end_time": "2025-03-13T14:10:37.537961Z",
     "start_time": "2025-03-13T14:10:37.524558Z"
    }
   },
   "cell_type": "code",
   "source": [
    "# Now clean the `\"place_with_parent_names\"` and crate `\"state\"` column\n",
    "df3['state'] = df3[\"place_with_parent_names\"].str.split(\"|\", expand=True)[2]"
   ],
   "id": "ace45971ccdfce35",
   "outputs": [],
   "execution_count": 116
  },
  {
   "metadata": {
    "ExecuteTime": {
     "end_time": "2025-03-13T14:10:39.696149Z",
     "start_time": "2025-03-13T14:10:39.687312Z"
    }
   },
   "cell_type": "code",
   "source": [
    "df3.drop(columns=[\"lat-lon\", \"place_with_parent_names\"], inplace=True)\n",
    "df3.head()"
   ],
   "id": "a7bd7facd7c4839a",
   "outputs": [
    {
     "data": {
      "text/plain": [
       "  property_type  area_m2  price_usd         lat          lon  \\\n",
       "0     apartment       71   48550.59    19.52589   -99.151703   \n",
       "1         house      233  168636.73  19.2640539  -99.5727534   \n",
       "2         house      300   86932.69   19.268629   -99.671722   \n",
       "4     apartment       84   68508.67   19.511938   -96.871956   \n",
       "5         house      175  102763.00   20.689157  -103.366728   \n",
       "\n",
       "                             state  \n",
       "0                 Distrito Federal  \n",
       "1                 Estado de M�xico  \n",
       "2                 Estado de M�xico  \n",
       "4  Veracruz de Ignacio de la Llave  \n",
       "5                          Jalisco  "
      ],
      "text/html": [
       "<div>\n",
       "<style scoped>\n",
       "    .dataframe tbody tr th:only-of-type {\n",
       "        vertical-align: middle;\n",
       "    }\n",
       "\n",
       "    .dataframe tbody tr th {\n",
       "        vertical-align: top;\n",
       "    }\n",
       "\n",
       "    .dataframe thead th {\n",
       "        text-align: right;\n",
       "    }\n",
       "</style>\n",
       "<table border=\"1\" class=\"dataframe\">\n",
       "  <thead>\n",
       "    <tr style=\"text-align: right;\">\n",
       "      <th></th>\n",
       "      <th>property_type</th>\n",
       "      <th>area_m2</th>\n",
       "      <th>price_usd</th>\n",
       "      <th>lat</th>\n",
       "      <th>lon</th>\n",
       "      <th>state</th>\n",
       "    </tr>\n",
       "  </thead>\n",
       "  <tbody>\n",
       "    <tr>\n",
       "      <th>0</th>\n",
       "      <td>apartment</td>\n",
       "      <td>71</td>\n",
       "      <td>48550.59</td>\n",
       "      <td>19.52589</td>\n",
       "      <td>-99.151703</td>\n",
       "      <td>Distrito Federal</td>\n",
       "    </tr>\n",
       "    <tr>\n",
       "      <th>1</th>\n",
       "      <td>house</td>\n",
       "      <td>233</td>\n",
       "      <td>168636.73</td>\n",
       "      <td>19.2640539</td>\n",
       "      <td>-99.5727534</td>\n",
       "      <td>Estado de M�xico</td>\n",
       "    </tr>\n",
       "    <tr>\n",
       "      <th>2</th>\n",
       "      <td>house</td>\n",
       "      <td>300</td>\n",
       "      <td>86932.69</td>\n",
       "      <td>19.268629</td>\n",
       "      <td>-99.671722</td>\n",
       "      <td>Estado de M�xico</td>\n",
       "    </tr>\n",
       "    <tr>\n",
       "      <th>4</th>\n",
       "      <td>apartment</td>\n",
       "      <td>84</td>\n",
       "      <td>68508.67</td>\n",
       "      <td>19.511938</td>\n",
       "      <td>-96.871956</td>\n",
       "      <td>Veracruz de Ignacio de la Llave</td>\n",
       "    </tr>\n",
       "    <tr>\n",
       "      <th>5</th>\n",
       "      <td>house</td>\n",
       "      <td>175</td>\n",
       "      <td>102763.00</td>\n",
       "      <td>20.689157</td>\n",
       "      <td>-103.366728</td>\n",
       "      <td>Jalisco</td>\n",
       "    </tr>\n",
       "  </tbody>\n",
       "</table>\n",
       "</div>"
      ]
     },
     "execution_count": 117,
     "metadata": {},
     "output_type": "execute_result"
    }
   ],
   "execution_count": 117
  },
  {
   "metadata": {
    "ExecuteTime": {
     "end_time": "2025-03-13T14:12:38.615930Z",
     "start_time": "2025-03-13T14:12:38.610896Z"
    }
   },
   "cell_type": "code",
   "source": [
    "print(\"df1 shape:\", df1.shape)\n",
    "print(\"df2 shape:\", df3.shape)\n",
    "print(\"df3 shape:\", df3.shape)\n",
    "print(\"Total Data:\", df1.shape[0] + df2.shape[0] + df3.shape[0])"
   ],
   "id": "288441312b14cc05",
   "outputs": [
    {
     "name": "stdout",
     "output_type": "stream",
     "text": [
      "df1 shape: (583, 6)\n",
      "df2 shape: (582, 6)\n",
      "df3 shape: (582, 6)\n",
      "Total Data: 1736\n"
     ]
    }
   ],
   "execution_count": 124
  },
  {
   "metadata": {},
   "cell_type": "markdown",
   "source": "# Conact those 3 dataframe to one called `df`",
   "id": "a554d6d3f1e88c0a"
  },
  {
   "metadata": {
    "ExecuteTime": {
     "end_time": "2025-03-13T14:12:46.230865Z",
     "start_time": "2025-03-13T14:12:46.225224Z"
    }
   },
   "cell_type": "code",
   "source": "df = pd.concat([df1, df2, df3])",
   "id": "92fe5ce32f4c2f30",
   "outputs": [],
   "execution_count": 126
  },
  {
   "metadata": {
    "ExecuteTime": {
     "end_time": "2025-03-13T14:12:48.921697Z",
     "start_time": "2025-03-13T14:12:48.917949Z"
    }
   },
   "cell_type": "code",
   "source": [
    "df.head()\n",
    "df.shape"
   ],
   "id": "2136d8831998d582",
   "outputs": [
    {
     "data": {
      "text/plain": [
       "(1736, 6)"
      ]
     },
     "execution_count": 127,
     "metadata": {},
     "output_type": "execute_result"
    }
   ],
   "execution_count": 127
  },
  {
   "metadata": {},
   "cell_type": "markdown",
   "source": "# Save df to csv",
   "id": "9e73fa7f0fe214d8"
  },
  {
   "metadata": {
    "ExecuteTime": {
     "end_time": "2025-03-13T14:23:38.090602Z",
     "start_time": "2025-03-13T14:23:38.075046Z"
    }
   },
   "cell_type": "code",
   "source": "df.to_csv(\"../data/mexico-real-estate-clean.csv\", index=False)",
   "id": "84f42b2cb56521fd",
   "outputs": [],
   "execution_count": 137
  },
  {
   "metadata": {
    "ExecuteTime": {
     "end_time": "2025-03-13T14:23:34.952263Z",
     "start_time": "2025-03-13T14:23:34.921688Z"
    }
   },
   "cell_type": "code",
   "source": [
    "# Check the csv is correctly saved the data \n",
    "df_check = pd.read_csv(\"../data/mexico-real-estate-clean.csv\")\n",
    "df_check.head()\n",
    "df.shape"
   ],
   "id": "28d9403e349b6fc2",
   "outputs": [
    {
     "data": {
      "text/plain": [
       "(1736, 6)"
      ]
     },
     "execution_count": 136,
     "metadata": {},
     "output_type": "execute_result"
    }
   ],
   "execution_count": 136
  },
  {
   "metadata": {},
   "cell_type": "code",
   "outputs": [],
   "execution_count": null,
   "source": "",
   "id": "6bd4b975576ba679"
  }
 ],
 "metadata": {
  "kernelspec": {
   "display_name": "Python 3",
   "language": "python",
   "name": "python3"
  },
  "language_info": {
   "codemirror_mode": {
    "name": "ipython",
    "version": 2
   },
   "file_extension": ".py",
   "mimetype": "text/x-python",
   "name": "python",
   "nbconvert_exporter": "python",
   "pygments_lexer": "ipython2",
   "version": "2.7.6"
  }
 },
 "nbformat": 4,
 "nbformat_minor": 5
}
