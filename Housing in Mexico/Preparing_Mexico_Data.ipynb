{
 "cells": [
  {
   "metadata": {},
   "cell_type": "markdown",
   "source": "# Preparing Mexico Data",
   "id": "3652596396d3675a"
  },
  {
   "metadata": {
    "ExecuteTime": {
     "end_time": "2025-03-13T11:30:26.258142Z",
     "start_time": "2025-03-13T11:30:25.959865Z"
    }
   },
   "cell_type": "code",
   "source": "import pandas as pd",
   "id": "ecccec3c64305499",
   "outputs": [],
   "execution_count": 1
  },
  {
   "metadata": {
    "ExecuteTime": {
     "end_time": "2025-03-13T12:01:14.803173Z",
     "start_time": "2025-03-13T12:01:14.777553Z"
    }
   },
   "cell_type": "code",
   "source": [
    "# Load CSV files into DataFrames\n",
    "df1 = pd.read_csv(\"../data/mexico-real-estate-1.csv\")\n",
    "df2 = pd.read_csv(\"../data/mexico-real-estate-2.csv\")\n",
    "df3 = pd.read_csv(\"../data/mexico-real-estate-3.csv\")\n",
    "\n",
    "# Print object type and shape for DataFrames\n",
    "print(\"df1 type:\", type(df1))\n",
    "print(\"df1 shape:\", df1.shape)\n",
    "print()\n",
    "print(\"df2 type:\", type(df2))\n",
    "print(\"df2 shape:\", df2.shape)\n",
    "print()\n",
    "print(\"df3 type:\", type(df3))\n",
    "print(\"df3 shape:\", df3.shape)"
   ],
   "id": "7cc3379b50088641",
   "outputs": [
    {
     "name": "stdout",
     "output_type": "stream",
     "text": [
      "df1 type: <class 'pandas.core.frame.DataFrame'>\n",
      "df1 shape: (700, 6)\n",
      "\n",
      "df2 type: <class 'pandas.core.frame.DataFrame'>\n",
      "df2 shape: (700, 6)\n",
      "\n",
      "df3 type: <class 'pandas.core.frame.DataFrame'>\n",
      "df3 shape: (700, 5)\n"
     ]
    }
   ],
   "execution_count": 14
  },
  {
   "metadata": {},
   "cell_type": "code",
   "outputs": [],
   "execution_count": null,
   "source": "",
   "id": "d0d6175a92cf2612"
  }
 ],
 "metadata": {
  "kernelspec": {
   "display_name": "Python 3",
   "language": "python",
   "name": "python3"
  },
  "language_info": {
   "codemirror_mode": {
    "name": "ipython",
    "version": 2
   },
   "file_extension": ".py",
   "mimetype": "text/x-python",
   "name": "python",
   "nbconvert_exporter": "python",
   "pygments_lexer": "ipython2",
   "version": "2.7.6"
  }
 },
 "nbformat": 4,
 "nbformat_minor": 5
}
